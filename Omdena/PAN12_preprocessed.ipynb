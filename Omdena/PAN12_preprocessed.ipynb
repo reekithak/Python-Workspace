{
 "cells": [
  {
   "cell_type": "code",
   "execution_count": 12,
   "metadata": {
    "ExecuteTime": {
     "end_time": "2020-08-29T04:59:29.624058Z",
     "start_time": "2020-08-29T04:59:29.601098Z"
    },
    "scrolled": true
   },
   "outputs": [],
   "source": [
    "import pandas as pd\n",
    "import numpy as np\n",
    "import os \n",
    "import matplotlib.pyplot as plt\n",
    "%matplotlib inline"
   ]
  },
  {
   "cell_type": "markdown",
   "metadata": {},
   "source": [
    "**Train Set Destination**"
   ]
  },
  {
   "cell_type": "code",
   "execution_count": 13,
   "metadata": {
    "ExecuteTime": {
     "end_time": "2020-08-29T04:59:30.156386Z",
     "start_time": "2020-08-29T04:59:30.149406Z"
    },
    "scrolled": true
   },
   "outputs": [],
   "source": [
    "tr_neg = r\"D:\\Omdena\\Resources\\PAN-12 pre-processed data\\train\\Negative\"\n",
    "tr_pos = r\"D:\\Omdena\\Resources\\PAN-12 pre-processed data\\train\\Positive\""
   ]
  },
  {
   "cell_type": "markdown",
   "metadata": {},
   "source": [
    "i) Negative"
   ]
  },
  {
   "cell_type": "code",
   "execution_count": null,
   "metadata": {
    "ExecuteTime": {
     "end_time": "2020-08-29T04:57:34.923153Z",
     "start_time": "2020-08-29T04:56:14.025044Z"
    },
    "scrolled": false
   },
   "outputs": [],
   "source": [
    "FileNameList = [] \n",
    "File_data = []\n",
    "iter_= 0 \n",
    "for filename in os.listdir(\"D:/Omdena/Resources/PAN-12 pre-processed data/train/Negative/\"):\n",
    "    tt = str(\"D:/Omdena/Resources/PAN-12 pre-processed data/train/Negative/\")+str(filename)\n",
    "    if filename.endswith(\".txt\"):\n",
    "        file = open(tt,\"r+\")\n",
    "        temp_str = file.read()\n",
    "        File_data.append(str(temp_str))\n",
    "        FileNameList.append(str(filename.split('.')[0]))\n",
    "        #print(filename.split('.')[0])\n",
    "        iter_+=1\n",
    "    else:\n",
    "        continue\n",
    "print(\"Total items = \"+str(iter_))"
   ]
  },
  {
   "cell_type": "code",
   "execution_count": 11,
   "metadata": {
    "ExecuteTime": {
     "end_time": "2020-08-29T04:59:22.043281Z",
     "start_time": "2020-08-29T04:59:22.023334Z"
    },
    "scrolled": false
   },
   "outputs": [
    {
     "data": {
      "text/plain": [
       "True"
      ]
     },
     "execution_count": 11,
     "metadata": {},
     "output_type": "execute_result"
    }
   ],
   "source": [
    "len(FileNameList) == len(File_data)"
   ]
  },
  {
   "cell_type": "code",
   "execution_count": 38,
   "metadata": {
    "collapsed": true,
    "scrolled": true
   },
   "outputs": [
    {
     "data": {
      "text/plain": [
       "['hiiiiii.asl.asl.m.u?.  ', 'hi.asl?.m.and you?.m.  ']"
      ]
     },
     "execution_count": 38,
     "metadata": {},
     "output_type": "execute_result"
    }
   ],
   "source": []
  },
  {
   "cell_type": "code",
   "execution_count": null,
   "metadata": {
    "collapsed": true,
    "scrolled": true
   },
   "outputs": [],
   "source": []
  }
 ],
 "metadata": {
  "kernelspec": {
   "display_name": "Python 3",
   "language": "python",
   "name": "python3"
  },
  "language_info": {
   "codemirror_mode": {
    "name": "ipython",
    "version": 3
   },
   "file_extension": ".py",
   "mimetype": "text/x-python",
   "name": "python",
   "nbconvert_exporter": "python",
   "pygments_lexer": "ipython3",
   "version": "3.7.7"
  }
 },
 "nbformat": 4,
 "nbformat_minor": 4
}
