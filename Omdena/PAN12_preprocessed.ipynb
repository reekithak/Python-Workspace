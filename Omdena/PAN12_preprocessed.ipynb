{
 "cells": [
  {
   "cell_type": "markdown",
   "metadata": {
    "ExecuteTime": {
     "end_time": "2020-08-30T13:25:03.867730Z",
     "start_time": "2020-08-30T13:24:52.100504Z"
    },
    "scrolled": true
   },
   "source": [
    "# Data Set Merging \n",
    "**Link to the data** - https://drive.google.com/drive/folders/10ZitrO2HSk__tReIKTIrKKHFalITTv-r?usp=sharing"
   ]
  },
  {
   "cell_type": "code",
   "execution_count": 1,
   "metadata": {
    "ExecuteTime": {
     "end_time": "2020-08-30T18:34:52.399104Z",
     "start_time": "2020-08-30T18:34:43.162061Z"
    }
   },
   "outputs": [],
   "source": [
    "import pandas as pd\n",
    "import numpy as np\n",
    "import os \n",
    "import matplotlib.pyplot as plt\n",
    "%matplotlib inline"
   ]
  },
  {
   "cell_type": "markdown",
   "metadata": {},
   "source": [
    "**Train Set Preparation**"
   ]
  },
  {
   "cell_type": "code",
   "execution_count": 2,
   "metadata": {
    "ExecuteTime": {
     "end_time": "2020-08-30T18:34:57.413081Z",
     "start_time": "2020-08-30T18:34:57.389146Z"
    },
    "scrolled": true
   },
   "outputs": [],
   "source": [
    "tr_neg = \"D:/Omdena/Resources/PAN-12 pre-processed data/train/Negative/\"\n",
    "tr_pos = \"D:/Omdena/Resources/PAN-12 pre-processed data/train/Positive/\"\n",
    "tst_neg = \"D:/Omdena/Resources/PAN-12 pre-processed data/test/Negative/\"\n",
    "tst_pos = \"D:/Omdena/Resources/PAN-12 pre-processed data/test/Positive/\""
   ]
  },
  {
   "cell_type": "markdown",
   "metadata": {},
   "source": [
    "i) Negative"
   ]
  },
  {
   "cell_type": "code",
   "execution_count": 4,
   "metadata": {
    "ExecuteTime": {
     "end_time": "2020-08-29T05:12:34.477971Z",
     "start_time": "2020-08-29T05:07:56.781531Z"
    },
    "scrolled": false
   },
   "outputs": [
    {
     "name": "stdout",
     "output_type": "stream",
     "text": [
      "Total items = 58186\n"
     ]
    }
   ],
   "source": [
    "FileNameList = [] \n",
    "File_data = []\n",
    "iter_= 0 \n",
    "for filename in os.listdir(tr_neg):\n",
    "    tt = str(tr_neg)+str(filename)\n",
    "    if filename.endswith(\".txt\"):\n",
    "        file = open(tt,\"r+\")\n",
    "        temp_str = file.read()\n",
    "        File_data.append(str(temp_str))\n",
    "        FileNameList.append(str(filename.split('.')[0]))\n",
    "        #print(filename.split('.')[0])\n",
    "        iter_+=1\n",
    "    else:\n",
    "        continue\n",
    "print(\"Total items = \"+str(iter_))"
   ]
  },
  {
   "cell_type": "code",
   "execution_count": 17,
   "metadata": {
    "ExecuteTime": {
     "end_time": "2020-08-29T05:24:52.224024Z",
     "start_time": "2020-08-29T05:24:52.194105Z"
    }
   },
   "outputs": [],
   "source": [
    "Data_neg = pd.DataFrame()\n",
    "Data_neg['ID'] = FileNameList\n",
    "Data_neg['Comments / Message'] = File_data"
   ]
  },
  {
   "cell_type": "code",
   "execution_count": 19,
   "metadata": {
    "ExecuteTime": {
     "end_time": "2020-08-29T05:37:26.346263Z",
     "start_time": "2020-08-29T05:37:25.532244Z"
    }
   },
   "outputs": [],
   "source": [
    "Data_neg.to_csv(\"Train_Neg.csv\")"
   ]
  },
  {
   "cell_type": "markdown",
   "metadata": {},
   "source": [
    "ii) Positive"
   ]
  },
  {
   "cell_type": "code",
   "execution_count": 20,
   "metadata": {
    "ExecuteTime": {
     "end_time": "2020-08-29T05:38:47.556525Z",
     "start_time": "2020-08-29T05:38:41.136149Z"
    }
   },
   "outputs": [
    {
     "name": "stdout",
     "output_type": "stream",
     "text": [
      "Total items = 1413\n"
     ]
    }
   ],
   "source": [
    "FileNameList = [] \n",
    "File_data = []\n",
    "iter_= 0 \n",
    "for filename in os.listdir(tr_pos):\n",
    "    tt = str(tr_pos)+str(filename)\n",
    "    if filename.endswith(\".txt\"):\n",
    "        file = open(tt,\"r+\")\n",
    "        temp_str = file.read()\n",
    "        File_data.append(str(temp_str))\n",
    "        FileNameList.append(str(filename.split('.')[0]))\n",
    "        #print(filename.split('.')[0])\n",
    "        iter_+=1\n",
    "    else:\n",
    "        continue\n",
    "print(\"Total items = \"+str(iter_))"
   ]
  },
  {
   "cell_type": "code",
   "execution_count": 22,
   "metadata": {
    "ExecuteTime": {
     "end_time": "2020-08-29T05:41:27.761854Z",
     "start_time": "2020-08-29T05:41:27.746895Z"
    }
   },
   "outputs": [],
   "source": [
    "Data_pos = pd.DataFrame()\n",
    "Data_pos['ID'] = FileNameList\n",
    "Data_pos['Comments / Message'] = File_data"
   ]
  },
  {
   "cell_type": "code",
   "execution_count": 23,
   "metadata": {
    "ExecuteTime": {
     "end_time": "2020-08-29T05:41:48.777845Z",
     "start_time": "2020-08-29T05:41:48.710027Z"
    }
   },
   "outputs": [],
   "source": [
    "Data_pos.to_csv(\"Train_pos.csv\")"
   ]
  },
  {
   "cell_type": "markdown",
   "metadata": {},
   "source": [
    "**Test Set Preparation**"
   ]
  },
  {
   "cell_type": "markdown",
   "metadata": {},
   "source": [
    "i) Negative"
   ]
  },
  {
   "cell_type": "code",
   "execution_count": null,
   "metadata": {
    "ExecuteTime": {
     "start_time": "2020-08-30T19:13:47.222Z"
    }
   },
   "outputs": [],
   "source": [
    "FileNameList = [] \n",
    "File_data = []\n",
    "iter_= 0 \n",
    "for filename in os.listdir(tst_neg):\n",
    "    tt = str(tst_neg)+str(filename)\n",
    "    if filename.endswith(\".txt\"):\n",
    "        file = open(tt,\"r+\")\n",
    "        temp_str = file.read()\n",
    "        File_data.append(str(temp_str))\n",
    "        FileNameList.append(str(filename.split('.')[0]))\n",
    "        #print(filename.split('.')[0])\n",
    "        iter_+=1\n",
    "    else:\n",
    "        continue\n",
    "print(\"Total items = \"+str(iter_))"
   ]
  },
  {
   "cell_type": "code",
   "execution_count": 9,
   "metadata": {
    "ExecuteTime": {
     "end_time": "2020-08-30T19:04:55.210031Z",
     "start_time": "2020-08-30T19:04:54.969076Z"
    }
   },
   "outputs": [],
   "source": [
    "Data_tst_neg = pd.DataFrame()\n",
    "Data_tst_neg['ID'] = FileNameList\n",
    "Data_tst_neg['Comments / Message'] = File_data"
   ]
  },
  {
   "cell_type": "code",
   "execution_count": 10,
   "metadata": {
    "ExecuteTime": {
     "end_time": "2020-08-30T19:05:04.113951Z",
     "start_time": "2020-08-30T19:04:55.218009Z"
    }
   },
   "outputs": [],
   "source": [
    "Data_tst_neg.to_csv(\"Test_Neg.csv\")"
   ]
  },
  {
   "cell_type": "markdown",
   "metadata": {},
   "source": [
    "ii) Positive"
   ]
  },
  {
   "cell_type": "code",
   "execution_count": 5,
   "metadata": {
    "ExecuteTime": {
     "end_time": "2020-08-30T18:38:06.929169Z",
     "start_time": "2020-08-30T18:38:06.013486Z"
    }
   },
   "outputs": [
    {
     "name": "stdout",
     "output_type": "stream",
     "text": [
      "Total items = 2581\n"
     ]
    }
   ],
   "source": [
    "FileNameList = [] \n",
    "File_data = []\n",
    "iter_= 0 \n",
    "for filename in os.listdir(tst_pos):\n",
    "    tt = str(tst_pos)+str(filename)\n",
    "    if filename.endswith(\".txt\"):\n",
    "        file = open(tt,\"r+\")\n",
    "        temp_str = file.read()\n",
    "        File_data.append(str(temp_str))\n",
    "        FileNameList.append(str(filename.split('.')[0]))\n",
    "        #print(filename.split('.')[0])\n",
    "        iter_+=1\n",
    "    else:\n",
    "        continue\n",
    "print(\"Total items = \"+str(iter_))"
   ]
  },
  {
   "cell_type": "code",
   "execution_count": 6,
   "metadata": {
    "ExecuteTime": {
     "end_time": "2020-08-30T18:38:13.959562Z",
     "start_time": "2020-08-30T18:38:12.163132Z"
    }
   },
   "outputs": [],
   "source": [
    "Data_tst_pos = pd.DataFrame()\n",
    "Data_tst_pos['ID'] = FileNameList\n",
    "Data_tst_pos['Comments / Message'] = File_data"
   ]
  },
  {
   "cell_type": "code",
   "execution_count": 7,
   "metadata": {
    "ExecuteTime": {
     "end_time": "2020-08-30T18:38:15.942123Z",
     "start_time": "2020-08-30T18:38:15.762604Z"
    }
   },
   "outputs": [],
   "source": [
    "Data_tst_pos.to_csv(\"Test_pos.csv\")"
   ]
  }
 ],
 "metadata": {
  "kernelspec": {
   "display_name": "Python 3",
   "language": "python",
   "name": "python3"
  },
  "language_info": {
   "codemirror_mode": {
    "name": "ipython",
    "version": 3
   },
   "file_extension": ".py",
   "mimetype": "text/x-python",
   "name": "python",
   "nbconvert_exporter": "python",
   "pygments_lexer": "ipython3",
   "version": "3.7.7"
  }
 },
 "nbformat": 4,
 "nbformat_minor": 4
}
