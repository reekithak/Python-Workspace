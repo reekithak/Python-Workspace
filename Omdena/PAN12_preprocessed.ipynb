{
 "cells": [
  {
   "cell_type": "code",
   "execution_count": 1,
   "metadata": {
    "ExecuteTime": {
     "end_time": "2020-08-29T05:07:02.788027Z",
     "start_time": "2020-08-29T05:07:00.330516Z"
    },
    "scrolled": true
   },
   "outputs": [],
   "source": [
    "import pandas as pd\n",
    "import numpy as np\n",
    "import os \n",
    "import matplotlib.pyplot as plt\n",
    "%matplotlib inline"
   ]
  },
  {
   "cell_type": "markdown",
   "metadata": {},
   "source": [
    "**Train Set Destination**"
   ]
  },
  {
   "cell_type": "code",
   "execution_count": 3,
   "metadata": {
    "ExecuteTime": {
     "end_time": "2020-08-29T05:07:35.256533Z",
     "start_time": "2020-08-29T05:07:35.239578Z"
    },
    "scrolled": true
   },
   "outputs": [],
   "source": [
    "tr_neg = \"D:/Omdena/Resources/PAN-12 pre-processed data/train/Negative/\"\n",
    "tr_pos = \"D:/Omdena/Resources/PAN-12 pre-processed data/train/Positive/\""
   ]
  },
  {
   "cell_type": "markdown",
   "metadata": {},
   "source": [
    "i) Negative"
   ]
  },
  {
   "cell_type": "code",
   "execution_count": 4,
   "metadata": {
    "ExecuteTime": {
     "end_time": "2020-08-29T05:12:34.477971Z",
     "start_time": "2020-08-29T05:07:56.781531Z"
    },
    "scrolled": false
   },
   "outputs": [
    {
     "name": "stdout",
     "output_type": "stream",
     "text": [
      "Total items = 58186\n"
     ]
    }
   ],
   "source": [
    "FileNameList = [] \n",
    "File_data = []\n",
    "iter_= 0 \n",
    "for filename in os.listdir(tr_neg):\n",
    "    tt = str(tr_neg)+str(filename)\n",
    "    if filename.endswith(\".txt\"):\n",
    "        file = open(tt,\"r+\")\n",
    "        temp_str = file.read()\n",
    "        File_data.append(str(temp_str))\n",
    "        FileNameList.append(str(filename.split('.')[0]))\n",
    "        #print(filename.split('.')[0])\n",
    "        iter_+=1\n",
    "    else:\n",
    "        continue\n",
    "print(\"Total items = \"+str(iter_))"
   ]
  },
  {
   "cell_type": "code",
   "execution_count": 5,
   "metadata": {
    "ExecuteTime": {
     "end_time": "2020-08-29T05:12:34.495887Z",
     "start_time": "2020-08-29T05:12:34.480927Z"
    },
    "scrolled": false
   },
   "outputs": [
    {
     "data": {
      "text/plain": [
       "True"
      ]
     },
     "execution_count": 5,
     "metadata": {},
     "output_type": "execute_result"
    }
   ],
   "source": [
    "len(FileNameList) == len(File_data)"
   ]
  },
  {
   "cell_type": "code",
   "execution_count": 17,
   "metadata": {
    "ExecuteTime": {
     "end_time": "2020-08-29T05:24:52.224024Z",
     "start_time": "2020-08-29T05:24:52.194105Z"
    }
   },
   "outputs": [],
   "source": [
    "Data_neg = pd.DataFrame()\n",
    "Data_neg['ID'] = FileNameList\n",
    "Data_neg['Comments / Message'] = File_data"
   ]
  },
  {
   "cell_type": "code",
   "execution_count": 18,
   "metadata": {
    "ExecuteTime": {
     "end_time": "2020-08-29T05:24:54.931991Z",
     "start_time": "2020-08-29T05:24:54.910039Z"
    }
   },
   "outputs": [
    {
     "data": {
      "text/html": [
       "<div>\n",
       "<style scoped>\n",
       "    .dataframe tbody tr th:only-of-type {\n",
       "        vertical-align: middle;\n",
       "    }\n",
       "\n",
       "    .dataframe tbody tr th {\n",
       "        vertical-align: top;\n",
       "    }\n",
       "\n",
       "    .dataframe thead th {\n",
       "        text-align: right;\n",
       "    }\n",
       "</style>\n",
       "<table border=\"1\" class=\"dataframe\">\n",
       "  <thead>\n",
       "    <tr style=\"text-align: right;\">\n",
       "      <th></th>\n",
       "      <th>ID</th>\n",
       "      <th>Comments / Message</th>\n",
       "    </tr>\n",
       "  </thead>\n",
       "  <tbody>\n",
       "    <tr>\n",
       "      <th>0</th>\n",
       "      <td>0000604306a283600b730276a2039471</td>\n",
       "      <td>b8810fee2f4a71f849f3f7409546d1d9 - do you have...</td>\n",
       "    </tr>\n",
       "    <tr>\n",
       "      <th>1</th>\n",
       "      <td>0001347c00d419eb537c0692e6e58eba</td>\n",
       "      <td>say asl and i&amp;amp;apos;ll rip your heart out.a...</td>\n",
       "    </tr>\n",
       "    <tr>\n",
       "      <th>2</th>\n",
       "      <td>000197b21283dc47810760e499d1f8ec</td>\n",
       "      <td>joint.?.in my hand.sorry.I&amp;amp;apos;m.korea st...</td>\n",
       "    </tr>\n",
       "    <tr>\n",
       "      <th>3</th>\n",
       "      <td>0002ee38ac5e78e7edbc4d4a556ec4b7</td>\n",
       "      <td>hey :) male or female?  Australian male here.h...</td>\n",
       "    </tr>\n",
       "    <tr>\n",
       "      <th>4</th>\n",
       "      <td>000483300677468215a9e3b38728209b</td>\n",
       "      <td>if you have a channel with ports 1 and 2.and y...</td>\n",
       "    </tr>\n",
       "    <tr>\n",
       "      <th>...</th>\n",
       "      <td>...</td>\n",
       "      <td>...</td>\n",
       "    </tr>\n",
       "    <tr>\n",
       "      <th>58181</th>\n",
       "      <td>fffd7a8158eec142186df5f77e97a9b9</td>\n",
       "      <td>Hi.Looking for a ripped sexy gay male. R u him...</td>\n",
       "    </tr>\n",
       "    <tr>\n",
       "      <th>58182</th>\n",
       "      <td>fffdb82e3d5078c7828024ac4855bffd</td>\n",
       "      <td>Hi. ^_^.hi.asl.Where are you from?.</td>\n",
       "    </tr>\n",
       "    <tr>\n",
       "      <th>58183</th>\n",
       "      <td>fffdd9142e809a7f634fbcc13063146d</td>\n",
       "      <td>hey asl?.u first :P.hi.20 m us u?.male too &amp;am...</td>\n",
       "    </tr>\n",
       "    <tr>\n",
       "      <th>58184</th>\n",
       "      <td>ffff38287b6013960b9e96e08f85526a</td>\n",
       "      <td>hi.asl?.Hello.kjlkj.</td>\n",
       "    </tr>\n",
       "    <tr>\n",
       "      <th>58185</th>\n",
       "      <td>ffffe01fc5b03a8d6b8c929d595644d9</td>\n",
       "      <td>anyone familiar with a T2000?  Im having a pro...</td>\n",
       "    </tr>\n",
       "  </tbody>\n",
       "</table>\n",
       "<p>58186 rows × 2 columns</p>\n",
       "</div>"
      ],
      "text/plain": [
       "                                     ID  \\\n",
       "0      0000604306a283600b730276a2039471   \n",
       "1      0001347c00d419eb537c0692e6e58eba   \n",
       "2      000197b21283dc47810760e499d1f8ec   \n",
       "3      0002ee38ac5e78e7edbc4d4a556ec4b7   \n",
       "4      000483300677468215a9e3b38728209b   \n",
       "...                                 ...   \n",
       "58181  fffd7a8158eec142186df5f77e97a9b9   \n",
       "58182  fffdb82e3d5078c7828024ac4855bffd   \n",
       "58183  fffdd9142e809a7f634fbcc13063146d   \n",
       "58184  ffff38287b6013960b9e96e08f85526a   \n",
       "58185  ffffe01fc5b03a8d6b8c929d595644d9   \n",
       "\n",
       "                                      Comments / Message  \n",
       "0      b8810fee2f4a71f849f3f7409546d1d9 - do you have...  \n",
       "1      say asl and i&amp;apos;ll rip your heart out.a...  \n",
       "2      joint.?.in my hand.sorry.I&amp;apos;m.korea st...  \n",
       "3      hey :) male or female?  Australian male here.h...  \n",
       "4      if you have a channel with ports 1 and 2.and y...  \n",
       "...                                                  ...  \n",
       "58181  Hi.Looking for a ripped sexy gay male. R u him...  \n",
       "58182              Hi. ^_^.hi.asl.Where are you from?.    \n",
       "58183  hey asl?.u first :P.hi.20 m us u?.male too &am...  \n",
       "58184                             hi.asl?.Hello.kjlkj.    \n",
       "58185  anyone familiar with a T2000?  Im having a pro...  \n",
       "\n",
       "[58186 rows x 2 columns]"
      ]
     },
     "execution_count": 18,
     "metadata": {},
     "output_type": "execute_result"
    }
   ],
   "source": [
    "Data_neg"
   ]
  },
  {
   "cell_type": "code",
   "execution_count": null,
   "metadata": {},
   "outputs": [],
   "source": []
  }
 ],
 "metadata": {
  "kernelspec": {
   "display_name": "Python 3",
   "language": "python",
   "name": "python3"
  },
  "language_info": {
   "codemirror_mode": {
    "name": "ipython",
    "version": 3
   },
   "file_extension": ".py",
   "mimetype": "text/x-python",
   "name": "python",
   "nbconvert_exporter": "python",
   "pygments_lexer": "ipython3",
   "version": "3.7.7"
  }
 },
 "nbformat": 4,
 "nbformat_minor": 4
}
