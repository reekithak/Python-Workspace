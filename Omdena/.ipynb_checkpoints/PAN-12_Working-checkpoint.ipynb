{
 "cells": [
  {
   "cell_type": "markdown",
   "metadata": {},
   "source": [
    "# Work on PAN-12\n",
    "Akhil Sanker (reekithak)"
   ]
  },
  {
   "cell_type": "code",
   "execution_count": 1,
   "metadata": {
    "ExecuteTime": {
     "end_time": "2020-08-30T21:52:51.351515Z",
     "start_time": "2020-08-30T21:52:48.928694Z"
    }
   },
   "outputs": [],
   "source": [
    "import pandas as pd \n",
    "import os\n",
    "import numpy as np"
   ]
  },
  {
   "cell_type": "markdown",
   "metadata": {},
   "source": [
    "**i) Identifying the Dataset Points**"
   ]
  },
  {
   "cell_type": "code",
   "execution_count": 10,
   "metadata": {
    "ExecuteTime": {
     "end_time": "2020-08-30T21:57:23.789236Z",
     "start_time": "2020-08-30T21:57:21.360221Z"
    }
   },
   "outputs": [],
   "source": [
    "try:\n",
    "    Train_pos = pd.read_csv(r\"D:\\working repos\\Python-Workspace\\Omdena\\Train_pos.csv\")\n",
    "    Train_neg = pd.read_csv(r\"D:\\working repos\\Python-Workspace\\Omdena\\Train_Neg.csv\")\n",
    "    Test_pos = pd.read_csv(r\"D:\\working repos\\Python-Workspace\\Omdena\\Test_pos.csv\")\n",
    "    Test_neg = pd.read_csv(r\"D:\\working repos\\Python-Workspace\\Omdena\\Test_Neg.csv\")\n",
    "\n",
    "except Exception as e:\n",
    "    print(e)\n",
    "try:\n",
    "    Train_pos = Train_pos.drop(\"Unnamed: 0\",axis=1)\n",
    "    Train_neg = Train_neg.drop(\"Unnamed: 0\",axis=1)\n",
    "    Test_pos = Test_pos.drop(\"Unnamed: 0\",axis=1)\n",
    "    Test_neg = Test_neg.drop(\"Unnamed: 0\",axis=1)\n",
    "except Exception as e:\n",
    "    print(e)"
   ]
  },
  {
   "cell_type": "markdown",
   "metadata": {
    "ExecuteTime": {
     "end_time": "2020-08-30T21:57:34.099929Z",
     "start_time": "2020-08-30T21:57:34.072002Z"
    }
   },
   "source": [
    "**Random Mixing up of Id's to check relation ( if any )**"
   ]
  },
  {
   "cell_type": "code",
   "execution_count": 32,
   "metadata": {
    "ExecuteTime": {
     "end_time": "2020-08-30T22:03:39.850498Z",
     "start_time": "2020-08-30T22:03:39.818584Z"
    }
   },
   "outputs": [
    {
     "data": {
      "text/plain": [
       "(3994, 193943)"
      ]
     },
     "execution_count": 32,
     "metadata": {},
     "output_type": "execute_result"
    }
   ],
   "source": [
    "#positive\n",
    "pos1_list = Train_pos['ID'].to_list()\n",
    "pos2_list = Test_pos['ID'].to_list()\n",
    "pos_list = pos1_list + pos2_list\n",
    "#negative\n",
    "neg1_list = Train_neg['ID'].to_list()\n",
    "neg2_list = Test_neg['ID'].to_list()\n",
    "neg_list = neg1_list + neg2_list\n",
    "len(pos_list) , len(neg_list)"
   ]
  },
  {
   "cell_type": "code",
   "execution_count": 37,
   "metadata": {
    "ExecuteTime": {
     "end_time": "2020-08-30T22:06:40.959807Z",
     "start_time": "2020-08-30T22:06:40.942852Z"
    }
   },
   "outputs": [
    {
     "name": "stdout",
     "output_type": "stream",
     "text": [
      "48\n"
     ]
    }
   ],
   "source": [
    "from fractions import Fraction\n",
    "print(Fraction(len(neg_list)//len(pos_list)).limit_denominator())"
   ]
  },
  {
   "cell_type": "code",
   "execution_count": 41,
   "metadata": {
    "ExecuteTime": {
     "end_time": "2020-08-30T22:10:10.489866Z",
     "start_time": "2020-08-30T22:10:10.405091Z"
    }
   },
   "outputs": [
    {
     "data": {
      "text/plain": [
       "(set(), 3994, 193943)"
      ]
     },
     "execution_count": 41,
     "metadata": {},
     "output_type": "execute_result"
    }
   ],
   "source": [
    "common_ids = set(neg_list).intersection(set(pos_list))\n",
    "common_ids ,len(set(pos_list)),len(set(neg_list))"
   ]
  },
  {
   "cell_type": "markdown",
   "metadata": {},
   "source": [
    "Note : \n",
    "1) Its clearly visible that the dataset has the issue of Class imbalance , can be treated on a later stage using Oversampling\n",
    "2) Null Set Returned , shows no overlapping of people also no chat / person is repeated ! (value notifying! )"
   ]
  },
  {
   "cell_type": "markdown",
   "metadata": {},
   "source": [
    "**ii) Working code**"
   ]
  },
  {
   "cell_type": "code",
   "execution_count": null,
   "metadata": {},
   "outputs": [],
   "source": []
  }
 ],
 "metadata": {
  "kernelspec": {
   "display_name": "Python 3",
   "language": "python",
   "name": "python3"
  },
  "language_info": {
   "codemirror_mode": {
    "name": "ipython",
    "version": 3
   },
   "file_extension": ".py",
   "mimetype": "text/x-python",
   "name": "python",
   "nbconvert_exporter": "python",
   "pygments_lexer": "ipython3",
   "version": "3.7.7"
  }
 },
 "nbformat": 4,
 "nbformat_minor": 4
}
