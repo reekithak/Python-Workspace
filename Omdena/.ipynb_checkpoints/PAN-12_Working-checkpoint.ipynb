{
 "cells": [
  {
   "cell_type": "markdown",
   "metadata": {},
   "source": [
    "# Work on PAN-12\n",
    "Akhil Sanker (reekithak)"
   ]
  },
  {
   "cell_type": "code",
   "execution_count": 2,
   "metadata": {
    "ExecuteTime": {
     "end_time": "2020-09-02T21:37:56.709949Z",
     "start_time": "2020-09-02T21:37:51.493985Z"
    }
   },
   "outputs": [],
   "source": [
    "import pandas as pd \n",
    "import os\n",
    "import numpy as np"
   ]
  },
  {
   "cell_type": "markdown",
   "metadata": {},
   "source": [
    "**i) Identifying the Dataset Points**"
   ]
  },
  {
   "cell_type": "code",
   "execution_count": 3,
   "metadata": {
    "ExecuteTime": {
     "end_time": "2020-09-02T21:37:59.725883Z",
     "start_time": "2020-09-02T21:37:56.714941Z"
    }
   },
   "outputs": [],
   "source": [
    "try:\n",
    "    Train_pos = pd.read_csv(r\"D:\\working repos\\Python-Workspace\\Omdena\\Train_pos.csv\")\n",
    "    Train_neg = pd.read_csv(r\"D:\\working repos\\Python-Workspace\\Omdena\\Train_Neg.csv\")\n",
    "    Test_pos = pd.read_csv(r\"D:\\working repos\\Python-Workspace\\Omdena\\Test_pos.csv\")\n",
    "    Test_neg = pd.read_csv(r\"D:\\working repos\\Python-Workspace\\Omdena\\Test_Neg.csv\")\n",
    "\n",
    "except Exception as e:\n",
    "    print(e)\n",
    "try:\n",
    "    Train_pos = Train_pos.drop(\"Unnamed: 0\",axis=1)\n",
    "    Train_neg = Train_neg.drop(\"Unnamed: 0\",axis=1)\n",
    "    Test_pos = Test_pos.drop(\"Unnamed: 0\",axis=1)\n",
    "    Test_neg = Test_neg.drop(\"Unnamed: 0\",axis=1)\n",
    "except Exception as e:\n",
    "    print(e)"
   ]
  },
  {
   "cell_type": "markdown",
   "metadata": {
    "ExecuteTime": {
     "end_time": "2020-08-30T21:57:34.099929Z",
     "start_time": "2020-08-30T21:57:34.072002Z"
    }
   },
   "source": [
    "**Random Mixing up of Id's to check relation ( if any )**"
   ]
  },
  {
   "cell_type": "code",
   "execution_count": 4,
   "metadata": {
    "ExecuteTime": {
     "end_time": "2020-09-02T21:37:59.803679Z",
     "start_time": "2020-09-02T21:37:59.729873Z"
    }
   },
   "outputs": [
    {
     "data": {
      "text/plain": [
       "(3994, 193943)"
      ]
     },
     "execution_count": 4,
     "metadata": {},
     "output_type": "execute_result"
    }
   ],
   "source": [
    "#positive\n",
    "pos1_list = Train_pos['ID'].to_list()\n",
    "pos2_list = Test_pos['ID'].to_list()\n",
    "pos_list = pos1_list + pos2_list\n",
    "#negative\n",
    "neg1_list = Train_neg['ID'].to_list()\n",
    "neg2_list = Test_neg['ID'].to_list()\n",
    "neg_list = neg1_list + neg2_list\n",
    "len(pos_list) , len(neg_list)"
   ]
  },
  {
   "cell_type": "code",
   "execution_count": 5,
   "metadata": {
    "ExecuteTime": {
     "end_time": "2020-09-02T21:37:59.856534Z",
     "start_time": "2020-09-02T21:37:59.811656Z"
    }
   },
   "outputs": [
    {
     "name": "stdout",
     "output_type": "stream",
     "text": [
      "48\n"
     ]
    }
   ],
   "source": [
    "from fractions import Fraction\n",
    "print(Fraction(len(neg_list)//len(pos_list)).limit_denominator())"
   ]
  },
  {
   "cell_type": "code",
   "execution_count": 6,
   "metadata": {
    "ExecuteTime": {
     "end_time": "2020-09-02T21:38:00.038048Z",
     "start_time": "2020-09-02T21:37:59.864513Z"
    }
   },
   "outputs": [
    {
     "data": {
      "text/plain": [
       "(set(), 3994, 193943)"
      ]
     },
     "execution_count": 6,
     "metadata": {},
     "output_type": "execute_result"
    }
   ],
   "source": [
    "common_ids = set(neg_list).intersection(set(pos_list))\n",
    "common_ids ,len(set(pos_list)),len(set(neg_list))"
   ]
  },
  {
   "cell_type": "markdown",
   "metadata": {},
   "source": [
    "Note : \n",
    "1) Its clearly visible that the dataset has the issue of Class imbalance , can be treated on a later stage using Oversampling\n",
    "2) Null Set Returned , shows no overlapping of people also no chat / person is repeated ! (value notifying! )"
   ]
  },
  {
   "cell_type": "markdown",
   "metadata": {},
   "source": [
    "**ii) Working code** - Without oversampling"
   ]
  },
  {
   "cell_type": "markdown",
   "metadata": {
    "ExecuteTime": {
     "end_time": "2020-09-02T08:18:53.388660Z",
     "start_time": "2020-09-02T08:18:53.187614Z"
    }
   },
   "source": [
    "Merging the data - 0 non Abusive , 1 Abusive"
   ]
  },
  {
   "cell_type": "code",
   "execution_count": 7,
   "metadata": {
    "ExecuteTime": {
     "end_time": "2020-09-02T21:38:00.272422Z",
     "start_time": "2020-09-02T21:38:00.041041Z"
    }
   },
   "outputs": [],
   "source": [
    "pos_data = pd.concat([Train_pos,Test_pos],axis=0) \n",
    "neg_data = pd.concat([Train_neg,Test_neg],axis=0)\n",
    "pos_data['class'] = [0 for x in range(pos_data.shape[0])]\n",
    "neg_data['class'] = [1 for x in range(neg_data.shape[0])]\n",
    "Data = pd.concat([pos_data,neg_data]) #Merged Data"
   ]
  },
  {
   "cell_type": "code",
   "execution_count": 8,
   "metadata": {
    "ExecuteTime": {
     "end_time": "2020-09-02T21:38:00.304337Z",
     "start_time": "2020-09-02T21:38:00.274417Z"
    }
   },
   "outputs": [
    {
     "data": {
      "text/plain": [
       "(                                 ID  \\\n",
       " 0  0014c1b4278df4bf8ea8a20b7abdb13c   \n",
       " 1  0027f42308aad202fcb7224597a7ac1a   \n",
       " 2  0063692c957229db0816e0f240d7fa0d   \n",
       " 3  00a88e94773667ea0146e223d8d22f44   \n",
       " 4  00b06ff8fb883556067a7f53c06455fe   \n",
       " \n",
       "                                   Comments / Message  class  \n",
       " 0  hi.hi.how r ya?.where u been.im cool.was out w...      0  \n",
       " 1  hey baby.hey.i took a shower.kool.just seeing ...      0  \n",
       " 2  hello.hey.a little late but I am here.yea.so w...      0  \n",
       " 3  u still here ?.im sorry but i dont think I can...      0  \n",
       " 4  so--you on??.I know you're around cause I just...      0  ,\n",
       "                                       ID  \\\n",
       " 135752  fffc29bad1debf0fc42c0fe4b921a192   \n",
       " 135753  fffd9ce69d28d71b407c6ae24c3973e6   \n",
       " 135754  fffe4d1b08952afb8627a9b594f913c7   \n",
       " 135755  ffff2d0e314610b1df596482d806ada9   \n",
       " 135756  ffff74f40b58182a2521235b9db901d4   \n",
       " \n",
       "                                        Comments / Message  class  \n",
       " 135752                   hi.hi.Rødgrød med fløde?.asl?.        1  \n",
       " 135753  hey, why can't we edit the topic?.icefox: we'r...      1  \n",
       " 135754  do you want to chat?.here not on msn.i don&amp...      1  \n",
       " 135755  Haiiiiiiiii..Can you help me?.):.sure...with w...      1  \n",
       " 135756  hey.hi.lookingfor girl?.r u girl?.yes.u?.what ...      1  )"
      ]
     },
     "execution_count": 8,
     "metadata": {},
     "output_type": "execute_result"
    }
   ],
   "source": [
    "Data.head(5) , Data.tail(5) "
   ]
  },
  {
   "cell_type": "markdown",
   "metadata": {},
   "source": [
    "**Creating temporary Data**"
   ]
  },
  {
   "cell_type": "code",
   "execution_count": 9,
   "metadata": {
    "ExecuteTime": {
     "end_time": "2020-09-02T21:38:00.351211Z",
     "start_time": "2020-09-02T21:38:00.310322Z"
    }
   },
   "outputs": [
    {
     "data": {
      "text/html": [
       "<div>\n",
       "<style scoped>\n",
       "    .dataframe tbody tr th:only-of-type {\n",
       "        vertical-align: middle;\n",
       "    }\n",
       "\n",
       "    .dataframe tbody tr th {\n",
       "        vertical-align: top;\n",
       "    }\n",
       "\n",
       "    .dataframe thead th {\n",
       "        text-align: right;\n",
       "    }\n",
       "</style>\n",
       "<table border=\"1\" class=\"dataframe\">\n",
       "  <thead>\n",
       "    <tr style=\"text-align: right;\">\n",
       "      <th></th>\n",
       "      <th>ID</th>\n",
       "      <th>Comments / Message</th>\n",
       "      <th>class</th>\n",
       "    </tr>\n",
       "  </thead>\n",
       "  <tbody>\n",
       "    <tr>\n",
       "      <th>0</th>\n",
       "      <td>0b3185b09b832231aded5e04691b803c</td>\n",
       "      <td>u there?.i am here.hi :).how r u.im good and e...</td>\n",
       "      <td>0</td>\n",
       "    </tr>\n",
       "    <tr>\n",
       "      <th>1</th>\n",
       "      <td>058aed70ca1f38d88e181e366c0c5620</td>\n",
       "      <td>;;).hey.well i am suprised.your still here.y?....</td>\n",
       "      <td>0</td>\n",
       "    </tr>\n",
       "    <tr>\n",
       "      <th>2</th>\n",
       "      <td>ffd26e8a663cd024b8b4a0c0a82d6619</td>\n",
       "      <td>Hi! I&amp;amp;apos;m a 39 year old male looking fo...</td>\n",
       "      <td>1</td>\n",
       "    </tr>\n",
       "    <tr>\n",
       "      <th>3</th>\n",
       "      <td>0ec23465d064ab518e57bc456050c88f</td>\n",
       "      <td>hi.alan u here?.yep.cool watcha doin?.on break...</td>\n",
       "      <td>0</td>\n",
       "    </tr>\n",
       "    <tr>\n",
       "      <th>4</th>\n",
       "      <td>fff13b0ab64b53ba4c58790fdc4bea9d</td>\n",
       "      <td>:(.hey man.hi.my prezel isn as crunchy as in t...</td>\n",
       "      <td>1</td>\n",
       "    </tr>\n",
       "    <tr>\n",
       "      <th>...</th>\n",
       "      <td>...</td>\n",
       "      <td>...</td>\n",
       "      <td>...</td>\n",
       "    </tr>\n",
       "    <tr>\n",
       "      <th>195</th>\n",
       "      <td>ffc9d4b2a526519414f524fc2377b843</td>\n",
       "      <td>Hi all! I am trying to layout my entire page w...</td>\n",
       "      <td>1</td>\n",
       "    </tr>\n",
       "    <tr>\n",
       "      <th>196</th>\n",
       "      <td>ffd4918e89fea1d983f78b9f68dab399</td>\n",
       "      <td>helllooooo.hey.from?.the us, u?.asia.</td>\n",
       "      <td>1</td>\n",
       "    </tr>\n",
       "    <tr>\n",
       "      <th>197</th>\n",
       "      <td>ffd6d27abcb55cfbd2e18ce02e299934</td>\n",
       "      <td>Hey!.hi.asl?.19 m ua.</td>\n",
       "      <td>1</td>\n",
       "    </tr>\n",
       "    <tr>\n",
       "      <th>198</th>\n",
       "      <td>ffe5c65583770e06312a95d6a0f34591</td>\n",
       "      <td>673bcda76f0df726d6ec1518484b99ee: I'll try to ...</td>\n",
       "      <td>1</td>\n",
       "    </tr>\n",
       "    <tr>\n",
       "      <th>199</th>\n",
       "      <td>ffd7f4c202dc51b6e8fbb0f65b6e8cbe</td>\n",
       "      <td>69b0d3dfe919a6b860a9fac82de52a7e: about r5248,...</td>\n",
       "      <td>1</td>\n",
       "    </tr>\n",
       "  </tbody>\n",
       "</table>\n",
       "<p>200 rows × 3 columns</p>\n",
       "</div>"
      ],
      "text/plain": [
       "                                   ID  \\\n",
       "0    0b3185b09b832231aded5e04691b803c   \n",
       "1    058aed70ca1f38d88e181e366c0c5620   \n",
       "2    ffd26e8a663cd024b8b4a0c0a82d6619   \n",
       "3    0ec23465d064ab518e57bc456050c88f   \n",
       "4    fff13b0ab64b53ba4c58790fdc4bea9d   \n",
       "..                                ...   \n",
       "195  ffc9d4b2a526519414f524fc2377b843   \n",
       "196  ffd4918e89fea1d983f78b9f68dab399   \n",
       "197  ffd6d27abcb55cfbd2e18ce02e299934   \n",
       "198  ffe5c65583770e06312a95d6a0f34591   \n",
       "199  ffd7f4c202dc51b6e8fbb0f65b6e8cbe   \n",
       "\n",
       "                                    Comments / Message  class  \n",
       "0    u there?.i am here.hi :).how r u.im good and e...      0  \n",
       "1    ;;).hey.well i am suprised.your still here.y?....      0  \n",
       "2    Hi! I&amp;apos;m a 39 year old male looking fo...      1  \n",
       "3    hi.alan u here?.yep.cool watcha doin?.on break...      0  \n",
       "4    :(.hey man.hi.my prezel isn as crunchy as in t...      1  \n",
       "..                                                 ...    ...  \n",
       "195  Hi all! I am trying to layout my entire page w...      1  \n",
       "196            helllooooo.hey.from?.the us, u?.asia.        1  \n",
       "197                            Hey!.hi.asl?.19 m ua.        1  \n",
       "198  673bcda76f0df726d6ec1518484b99ee: I'll try to ...      1  \n",
       "199  69b0d3dfe919a6b860a9fac82de52a7e: about r5248,...      1  \n",
       "\n",
       "[200 rows x 3 columns]"
      ]
     },
     "execution_count": 9,
     "metadata": {},
     "output_type": "execute_result"
    }
   ],
   "source": [
    "Data_temp = pd.concat([Data.head(100),Data.tail(100)]).sample(frac=1).reset_index(drop=True) #shuffled data ready\n",
    "Data_temp"
   ]
  },
  {
   "cell_type": "code",
   "execution_count": 10,
   "metadata": {
    "ExecuteTime": {
     "end_time": "2020-09-02T21:38:00.382129Z",
     "start_time": "2020-09-02T21:38:00.356201Z"
    }
   },
   "outputs": [],
   "source": [
    "#Creating lists\n",
    "X_train = Data_temp['Comments / Message'].to_list()\n",
    "Y_train = Data_temp['class'].to_list()\n",
    "from cleantext import clean_text"
   ]
  },
  {
   "cell_type": "code",
   "execution_count": 11,
   "metadata": {
    "ExecuteTime": {
     "end_time": "2020-09-02T21:38:00.475878Z",
     "start_time": "2020-09-02T21:38:00.388116Z"
    }
   },
   "outputs": [
    {
     "data": {
      "text/plain": [
       "True"
      ]
     },
     "execution_count": 11,
     "metadata": {},
     "output_type": "execute_result"
    }
   ],
   "source": [
    "#Cleaning the X_train data\n",
    "X_train = [clean_text(x) for x in X_train]\n",
    "len(X_train) == len(Y_train)"
   ]
  },
  {
   "cell_type": "code",
   "execution_count": null,
   "metadata": {},
   "outputs": [],
   "source": []
  },
  {
   "cell_type": "code",
   "execution_count": null,
   "metadata": {},
   "outputs": [],
   "source": []
  },
  {
   "cell_type": "code",
   "execution_count": null,
   "metadata": {},
   "outputs": [],
   "source": []
  }
 ],
 "metadata": {
  "kernelspec": {
   "display_name": "Python 3",
   "language": "python",
   "name": "python3"
  },
  "language_info": {
   "codemirror_mode": {
    "name": "ipython",
    "version": 3
   },
   "file_extension": ".py",
   "mimetype": "text/x-python",
   "name": "python",
   "nbconvert_exporter": "python",
   "pygments_lexer": "ipython3",
   "version": "3.7.7"
  }
 },
 "nbformat": 4,
 "nbformat_minor": 4
}
