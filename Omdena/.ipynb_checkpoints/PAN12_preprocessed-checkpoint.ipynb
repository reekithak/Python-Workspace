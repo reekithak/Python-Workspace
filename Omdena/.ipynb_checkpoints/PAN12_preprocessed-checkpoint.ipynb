{
 "cells": [
  {
   "cell_type": "code",
   "execution_count": 1,
   "metadata": {
    "ExecuteTime": {
     "end_time": "2020-08-29T05:07:02.788027Z",
     "start_time": "2020-08-29T05:07:00.330516Z"
    },
    "scrolled": true
   },
   "outputs": [],
   "source": [
    "import pandas as pd\n",
    "import numpy as np\n",
    "import os \n",
    "import matplotlib.pyplot as plt\n",
    "%matplotlib inline"
   ]
  },
  {
   "cell_type": "markdown",
   "metadata": {},
   "source": [
    "**Train Set Destination**"
   ]
  },
  {
   "cell_type": "code",
   "execution_count": 3,
   "metadata": {
    "ExecuteTime": {
     "end_time": "2020-08-29T05:07:35.256533Z",
     "start_time": "2020-08-29T05:07:35.239578Z"
    },
    "scrolled": true
   },
   "outputs": [],
   "source": [
    "tr_neg = \"D:/Omdena/Resources/PAN-12 pre-processed data/train/Negative/\"\n",
    "tr_pos = \"D:/Omdena/Resources/PAN-12 pre-processed data/train/Positive/\""
   ]
  },
  {
   "cell_type": "markdown",
   "metadata": {},
   "source": [
    "i) Negative"
   ]
  },
  {
   "cell_type": "code",
   "execution_count": 4,
   "metadata": {
    "ExecuteTime": {
     "end_time": "2020-08-29T05:12:34.477971Z",
     "start_time": "2020-08-29T05:07:56.781531Z"
    },
    "scrolled": false
   },
   "outputs": [
    {
     "name": "stdout",
     "output_type": "stream",
     "text": [
      "Total items = 58186\n"
     ]
    }
   ],
   "source": [
    "FileNameList = [] \n",
    "File_data = []\n",
    "iter_= 0 \n",
    "for filename in os.listdir(tr_neg):\n",
    "    tt = str(tr_neg)+str(filename)\n",
    "    if filename.endswith(\".txt\"):\n",
    "        file = open(tt,\"r+\")\n",
    "        temp_str = file.read()\n",
    "        File_data.append(str(temp_str))\n",
    "        FileNameList.append(str(filename.split('.')[0]))\n",
    "        #print(filename.split('.')[0])\n",
    "        iter_+=1\n",
    "    else:\n",
    "        continue\n",
    "print(\"Total items = \"+str(iter_))"
   ]
  },
  {
   "cell_type": "code",
   "execution_count": 5,
   "metadata": {
    "ExecuteTime": {
     "end_time": "2020-08-29T05:12:34.495887Z",
     "start_time": "2020-08-29T05:12:34.480927Z"
    },
    "scrolled": false
   },
   "outputs": [
    {
     "data": {
      "text/plain": [
       "True"
      ]
     },
     "execution_count": 5,
     "metadata": {},
     "output_type": "execute_result"
    }
   ],
   "source": [
    "len(FileNameList) == len(File_data)"
   ]
  },
  {
   "cell_type": "code",
   "execution_count": 17,
   "metadata": {
    "ExecuteTime": {
     "end_time": "2020-08-29T05:24:52.224024Z",
     "start_time": "2020-08-29T05:24:52.194105Z"
    }
   },
   "outputs": [],
   "source": [
    "Data_neg = pd.DataFrame()\n",
    "Data_neg['ID'] = FileNameList\n",
    "Data_neg['Comments / Message'] = File_data"
   ]
  },
  {
   "cell_type": "code",
   "execution_count": 19,
   "metadata": {
    "ExecuteTime": {
     "end_time": "2020-08-29T05:37:26.346263Z",
     "start_time": "2020-08-29T05:37:25.532244Z"
    }
   },
   "outputs": [],
   "source": [
    "Data_neg.to_csv(\"Train_Neg.csv\")"
   ]
  },
  {
   "cell_type": "markdown",
   "metadata": {},
   "source": [
    "ii) Positive"
   ]
  },
  {
   "cell_type": "code",
   "execution_count": 20,
   "metadata": {
    "ExecuteTime": {
     "end_time": "2020-08-29T05:38:47.556525Z",
     "start_time": "2020-08-29T05:38:41.136149Z"
    }
   },
   "outputs": [
    {
     "name": "stdout",
     "output_type": "stream",
     "text": [
      "Total items = 1413\n"
     ]
    }
   ],
   "source": [
    "FileNameList = [] \n",
    "File_data = []\n",
    "iter_= 0 \n",
    "for filename in os.listdir(tr_pos):\n",
    "    tt = str(tr_pos)+str(filename)\n",
    "    if filename.endswith(\".txt\"):\n",
    "        file = open(tt,\"r+\")\n",
    "        temp_str = file.read()\n",
    "        File_data.append(str(temp_str))\n",
    "        FileNameList.append(str(filename.split('.')[0]))\n",
    "        #print(filename.split('.')[0])\n",
    "        iter_+=1\n",
    "    else:\n",
    "        continue\n",
    "print(\"Total items = \"+str(iter_))"
   ]
  },
  {
   "cell_type": "code",
   "execution_count": 21,
   "metadata": {
    "ExecuteTime": {
     "end_time": "2020-08-29T05:41:13.970480Z",
     "start_time": "2020-08-29T05:41:13.959509Z"
    }
   },
   "outputs": [
    {
     "data": {
      "text/plain": [
       "True"
      ]
     },
     "execution_count": 21,
     "metadata": {},
     "output_type": "execute_result"
    }
   ],
   "source": [
    "len(FileNameList) == len(File_data)"
   ]
  },
  {
   "cell_type": "code",
   "execution_count": 22,
   "metadata": {
    "ExecuteTime": {
     "end_time": "2020-08-29T05:41:27.761854Z",
     "start_time": "2020-08-29T05:41:27.746895Z"
    }
   },
   "outputs": [],
   "source": [
    "Data_pos = pd.DataFrame()\n",
    "Data_pos['ID'] = FileNameList\n",
    "Data_pos['Comments / Message'] = File_data"
   ]
  },
  {
   "cell_type": "code",
   "execution_count": 23,
   "metadata": {
    "ExecuteTime": {
     "end_time": "2020-08-29T05:41:48.777845Z",
     "start_time": "2020-08-29T05:41:48.710027Z"
    }
   },
   "outputs": [],
   "source": [
    "Data_pos.to_csv(\"Train_pos.csv\")"
   ]
  },
  {
   "cell_type": "code",
   "execution_count": null,
   "metadata": {},
   "outputs": [],
   "source": []
  }
 ],
 "metadata": {
  "kernelspec": {
   "display_name": "Python 3",
   "language": "python",
   "name": "python3"
  },
  "language_info": {
   "codemirror_mode": {
    "name": "ipython",
    "version": 3
   },
   "file_extension": ".py",
   "mimetype": "text/x-python",
   "name": "python",
   "nbconvert_exporter": "python",
   "pygments_lexer": "ipython3",
   "version": "3.7.7"
  }
 },
 "nbformat": 4,
 "nbformat_minor": 4
}
