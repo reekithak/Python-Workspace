{
 "cells": [
  {
   "cell_type": "markdown",
   "metadata": {},
   "source": [
    "# Work on PAN-12\n",
    "Akhil Sanker (reekithak)"
   ]
  },
  {
   "cell_type": "code",
   "execution_count": 1,
   "metadata": {
    "ExecuteTime": {
     "end_time": "2020-08-30T21:52:51.351515Z",
     "start_time": "2020-08-30T21:52:48.928694Z"
    }
   },
   "outputs": [],
   "source": [
    "import pandas as pd \n",
    "import os\n",
    "import numpy as np"
   ]
  },
  {
   "cell_type": "markdown",
   "metadata": {},
   "source": [
    "**i) Identifying the Dataset Points**"
   ]
  },
  {
   "cell_type": "code",
   "execution_count": 10,
   "metadata": {
    "ExecuteTime": {
     "end_time": "2020-08-30T21:57:23.789236Z",
     "start_time": "2020-08-30T21:57:21.360221Z"
    }
   },
   "outputs": [],
   "source": [
    "try:\n",
    "    Train_pos = pd.read_csv(r\"D:\\working repos\\Python-Workspace\\Omdena\\Train_pos.csv\")\n",
    "    Train_neg = pd.read_csv(r\"D:\\working repos\\Python-Workspace\\Omdena\\Train_Neg.csv\")\n",
    "    Test_pos = pd.read_csv(r\"D:\\working repos\\Python-Workspace\\Omdena\\Test_pos.csv\")\n",
    "    Test_neg = pd.read_csv(r\"D:\\working repos\\Python-Workspace\\Omdena\\Test_Neg.csv\")\n",
    "\n",
    "except Exception as e:\n",
    "    print(e)\n",
    "try:\n",
    "    Train_pos = Train_pos.drop(\"Unnamed: 0\",axis=1)\n",
    "    Train_neg = Train_neg.drop(\"Unnamed: 0\",axis=1)\n",
    "    Test_pos = Test_pos.drop(\"Unnamed: 0\",axis=1)\n",
    "    Test_neg = Test_neg.drop(\"Unnamed: 0\",axis=1)\n",
    "except Exception as e:\n",
    "    print(e)"
   ]
  },
  {
   "cell_type": "markdown",
   "metadata": {
    "ExecuteTime": {
     "end_time": "2020-08-30T21:57:34.099929Z",
     "start_time": "2020-08-30T21:57:34.072002Z"
    }
   },
   "source": [
    "**Random Mixing up of Id's to check relation ( if any )**"
   ]
  },
  {
   "cell_type": "code",
   "execution_count": 32,
   "metadata": {
    "ExecuteTime": {
     "end_time": "2020-08-30T22:03:39.850498Z",
     "start_time": "2020-08-30T22:03:39.818584Z"
    }
   },
   "outputs": [
    {
     "data": {
      "text/plain": [
       "(3994, 193943)"
      ]
     },
     "execution_count": 32,
     "metadata": {},
     "output_type": "execute_result"
    }
   ],
   "source": [
    "#positive\n",
    "pos1_list = Train_pos['ID'].to_list()\n",
    "pos2_list = Test_pos['ID'].to_list()\n",
    "pos_list = pos1_list + pos2_list\n",
    "#negative\n",
    "neg1_list = Train_neg['ID'].to_list()\n",
    "neg2_list = Test_neg['ID'].to_list()\n",
    "neg_list = neg1_list + neg2_list\n",
    "len(pos_list) , len(neg_list)"
   ]
  },
  {
   "cell_type": "code",
   "execution_count": 37,
   "metadata": {
    "ExecuteTime": {
     "end_time": "2020-08-30T22:06:40.959807Z",
     "start_time": "2020-08-30T22:06:40.942852Z"
    }
   },
   "outputs": [
    {
     "name": "stdout",
     "output_type": "stream",
     "text": [
      "48\n"
     ]
    }
   ],
   "source": [
    "from fractions import Fraction\n",
    "print(Fraction(len(neg_list)//len(pos_list)).limit_denominator())"
   ]
  },
  {
   "cell_type": "code",
   "execution_count": 41,
   "metadata": {
    "ExecuteTime": {
     "end_time": "2020-08-30T22:10:10.489866Z",
     "start_time": "2020-08-30T22:10:10.405091Z"
    }
   },
   "outputs": [
    {
     "data": {
      "text/plain": [
       "(set(), 3994, 193943)"
      ]
     },
     "execution_count": 41,
     "metadata": {},
     "output_type": "execute_result"
    }
   ],
   "source": [
    "common_ids = set(neg_list).intersection(set(pos_list))\n",
    "common_ids ,len(set(pos_list)),len(set(neg_list))"
   ]
  },
  {
   "cell_type": "markdown",
   "metadata": {},
   "source": [
    "Note : \n",
    "1) Its clearly visible that the dataset has the issue of Class imbalance , can be treated on a later stage using Oversampling\n",
    "2) Null Set Returned , shows no overlapping of people also no chat / person is repeated ! (value notifying! )"
   ]
  },
  {
   "cell_type": "markdown",
   "metadata": {},
   "source": [
    "**ii) Working code** - Without oversampling"
   ]
  },
  {
   "cell_type": "markdown",
   "metadata": {
    "ExecuteTime": {
     "end_time": "2020-09-02T08:18:53.388660Z",
     "start_time": "2020-09-02T08:18:53.187614Z"
    }
   },
   "source": [
    "Merging the data"
   ]
  },
  {
   "cell_type": "code",
   "execution_count": 68,
   "metadata": {
    "ExecuteTime": {
     "end_time": "2020-09-02T08:25:08.505813Z",
     "start_time": "2020-09-02T08:25:08.394291Z"
    }
   },
   "outputs": [],
   "source": [
    "pos_data = pd.concat([Train_pos,Test_pos],axis=0) #abusive \n",
    "neg_data = pd.concat([Train_neg,Test_neg],axis=0) #non-abusive\n",
    "pos_data['class'] = [0 for x in range(pos_data.shape[0])]\n",
    "neg_data['class'] = [1 for x in range(neg_data.shape[0])]\n",
    "Data = pd.concat([pos_data,neg_data]) #Merged Data"
   ]
  },
  {
   "cell_type": "code",
   "execution_count": 69,
   "metadata": {
    "ExecuteTime": {
     "end_time": "2020-09-02T08:25:25.531218Z",
     "start_time": "2020-09-02T08:25:25.504074Z"
    }
   },
   "outputs": [
    {
     "data": {
      "text/plain": [
       "(                                 ID  \\\n",
       " 0  0014c1b4278df4bf8ea8a20b7abdb13c   \n",
       " 1  0027f42308aad202fcb7224597a7ac1a   \n",
       " 2  0063692c957229db0816e0f240d7fa0d   \n",
       " 3  00a88e94773667ea0146e223d8d22f44   \n",
       " 4  00b06ff8fb883556067a7f53c06455fe   \n",
       " \n",
       "                                   Comments / Message  class  \n",
       " 0  hi.hi.how r ya?.where u been.im cool.was out w...      0  \n",
       " 1  hey baby.hey.i took a shower.kool.just seeing ...      0  \n",
       " 2  hello.hey.a little late but I am here.yea.so w...      0  \n",
       " 3  u still here ?.im sorry but i dont think I can...      0  \n",
       " 4  so--you on??.I know you're around cause I just...      0  ,\n",
       "                                       ID  \\\n",
       " 135752  fffc29bad1debf0fc42c0fe4b921a192   \n",
       " 135753  fffd9ce69d28d71b407c6ae24c3973e6   \n",
       " 135754  fffe4d1b08952afb8627a9b594f913c7   \n",
       " 135755  ffff2d0e314610b1df596482d806ada9   \n",
       " 135756  ffff74f40b58182a2521235b9db901d4   \n",
       " \n",
       "                                        Comments / Message  class  \n",
       " 135752                   hi.hi.Rødgrød med fløde?.asl?.        1  \n",
       " 135753  hey, why can't we edit the topic?.icefox: we'r...      1  \n",
       " 135754  do you want to chat?.here not on msn.i don&amp...      1  \n",
       " 135755  Haiiiiiiiii..Can you help me?.):.sure...with w...      1  \n",
       " 135756  hey.hi.lookingfor girl?.r u girl?.yes.u?.what ...      1  )"
      ]
     },
     "execution_count": 69,
     "metadata": {},
     "output_type": "execute_result"
    }
   ],
   "source": [
    "Data.head(5) , Data.tail(5) "
   ]
  },
  {
   "cell_type": "code",
   "execution_count": 72,
   "metadata": {
    "ExecuteTime": {
     "end_time": "2020-09-02T08:32:21.015238Z",
     "start_time": "2020-09-02T08:32:21.005267Z"
    }
   },
   "outputs": [],
   "source": [
    "import re\n",
    "def clean_text(\n",
    "string:str ,\n",
    "punctuations=r'''!()-[]{};:'\"\\,<>./?@#$%^&*_~''',\n",
    "stop_words = ['the','a','and','be','is','be','will']) -> str:\n",
    "    #URLS\n",
    "    string = re.sub(r'https?://\\S+|www\\.\\S+', '', string)\n",
    "    \n",
    "    #HTML\n",
    "    string = re.sub(r'<.*?>', '', string)\n",
    "    \n",
    "    #Punctuations\n",
    "    for x in string.lower():\n",
    "        if x in punctuations:\n",
    "            string = string.replace(x,\"\")\n",
    "    \n",
    "    #TO lower convertion\n",
    "    string = string.lower()\n",
    "    \n",
    "    #Removing stop words\n",
    "    string = ' '.join([word for word in string.split() if word not in stop_words])\n",
    "    \n",
    "    #whitespaces\n",
    "    string = re.sub(r'\\s+', ' ', string).strip()\n",
    "    \n",
    "    return string"
   ]
  },
  {
   "cell_type": "markdown",
   "metadata": {},
   "source": [
    "**Creating temporary Data**"
   ]
  },
  {
   "cell_type": "code",
   "execution_count": 83,
   "metadata": {
    "ExecuteTime": {
     "end_time": "2020-09-02T08:37:00.079595Z",
     "start_time": "2020-09-02T08:37:00.053665Z"
    }
   },
   "outputs": [
    {
     "data": {
      "text/html": [
       "<div>\n",
       "<style scoped>\n",
       "    .dataframe tbody tr th:only-of-type {\n",
       "        vertical-align: middle;\n",
       "    }\n",
       "\n",
       "    .dataframe tbody tr th {\n",
       "        vertical-align: top;\n",
       "    }\n",
       "\n",
       "    .dataframe thead th {\n",
       "        text-align: right;\n",
       "    }\n",
       "</style>\n",
       "<table border=\"1\" class=\"dataframe\">\n",
       "  <thead>\n",
       "    <tr style=\"text-align: right;\">\n",
       "      <th></th>\n",
       "      <th>ID</th>\n",
       "      <th>Comments / Message</th>\n",
       "      <th>class</th>\n",
       "    </tr>\n",
       "  </thead>\n",
       "  <tbody>\n",
       "    <tr>\n",
       "      <th>0</th>\n",
       "      <td>fff9d18c8e80e619d2acb2b044103b49</td>\n",
       "      <td>Regex for e-mail addresses on eichlers.com: /^...</td>\n",
       "      <td>1</td>\n",
       "    </tr>\n",
       "    <tr>\n",
       "      <th>1</th>\n",
       "      <td>fff761f307457fa24194dcd14c04116f</td>\n",
       "      <td>htlmac: force index isn't doing the trick.dts,...</td>\n",
       "      <td>1</td>\n",
       "    </tr>\n",
       "    <tr>\n",
       "      <th>2</th>\n",
       "      <td>03bbc84d1168088bbf04b9f4af40794d</td>\n",
       "      <td>hey.u leave your comp on again.ok guess u did.</td>\n",
       "      <td>0</td>\n",
       "    </tr>\n",
       "    <tr>\n",
       "      <th>3</th>\n",
       "      <td>027d9feb84a3976192f0242f759ae367</td>\n",
       "      <td>hi colie :).hey :).how are u.bored lol.aww,not...</td>\n",
       "      <td>0</td>\n",
       "    </tr>\n",
       "    <tr>\n",
       "      <th>4</th>\n",
       "      <td>fff597cf1158174ffc529a6a651a78a5</td>\n",
       "      <td>before your questions, my answer is &amp;amp;quot;...</td>\n",
       "      <td>1</td>\n",
       "    </tr>\n",
       "    <tr>\n",
       "      <th>...</th>\n",
       "      <td>...</td>\n",
       "      <td>...</td>\n",
       "      <td>...</td>\n",
       "    </tr>\n",
       "    <tr>\n",
       "      <th>195</th>\n",
       "      <td>0265797a9625f0c3d78382bc86e13186</td>\n",
       "      <td>hi.hey wassup.nuthin.u?.nothing.:(.still sad ?...</td>\n",
       "      <td>0</td>\n",
       "    </tr>\n",
       "    <tr>\n",
       "      <th>196</th>\n",
       "      <td>ffc9ee10c91559f86963a74d73356b58</td>\n",
       "      <td>ih.hi.hey female 18 here, wanna see me squirt?...</td>\n",
       "      <td>1</td>\n",
       "    </tr>\n",
       "    <tr>\n",
       "      <th>197</th>\n",
       "      <td>0dab27125046a2edb75ec1f85c75c1df</td>\n",
       "      <td>hey Aimee.how r u ?.r u busy?.hi.no.ok.are you...</td>\n",
       "      <td>0</td>\n",
       "    </tr>\n",
       "    <tr>\n",
       "      <th>198</th>\n",
       "      <td>fff1f1a8a1de097a3261e63a73e5f792</td>\n",
       "      <td>hello?.a/s?.hi.</td>\n",
       "      <td>1</td>\n",
       "    </tr>\n",
       "    <tr>\n",
       "      <th>199</th>\n",
       "      <td>ffcff7fe21b0aa7c86da43dd30cbc527</td>\n",
       "      <td>can you write comments into css?.Sure./* This ...</td>\n",
       "      <td>1</td>\n",
       "    </tr>\n",
       "  </tbody>\n",
       "</table>\n",
       "<p>200 rows × 3 columns</p>\n",
       "</div>"
      ],
      "text/plain": [
       "                                   ID  \\\n",
       "0    fff9d18c8e80e619d2acb2b044103b49   \n",
       "1    fff761f307457fa24194dcd14c04116f   \n",
       "2    03bbc84d1168088bbf04b9f4af40794d   \n",
       "3    027d9feb84a3976192f0242f759ae367   \n",
       "4    fff597cf1158174ffc529a6a651a78a5   \n",
       "..                                ...   \n",
       "195  0265797a9625f0c3d78382bc86e13186   \n",
       "196  ffc9ee10c91559f86963a74d73356b58   \n",
       "197  0dab27125046a2edb75ec1f85c75c1df   \n",
       "198  fff1f1a8a1de097a3261e63a73e5f792   \n",
       "199  ffcff7fe21b0aa7c86da43dd30cbc527   \n",
       "\n",
       "                                    Comments / Message  class  \n",
       "0    Regex for e-mail addresses on eichlers.com: /^...      1  \n",
       "1    htlmac: force index isn't doing the trick.dts,...      1  \n",
       "2     hey.u leave your comp on again.ok guess u did.        0  \n",
       "3    hi colie :).hey :).how are u.bored lol.aww,not...      0  \n",
       "4    before your questions, my answer is &amp;quot;...      1  \n",
       "..                                                 ...    ...  \n",
       "195  hi.hey wassup.nuthin.u?.nothing.:(.still sad ?...      0  \n",
       "196  ih.hi.hey female 18 here, wanna see me squirt?...      1  \n",
       "197  hey Aimee.how r u ?.r u busy?.hi.no.ok.are you...      0  \n",
       "198                                  hello?.a/s?.hi.        1  \n",
       "199  can you write comments into css?.Sure./* This ...      1  \n",
       "\n",
       "[200 rows x 3 columns]"
      ]
     },
     "execution_count": 83,
     "metadata": {},
     "output_type": "execute_result"
    }
   ],
   "source": [
    "Data_temp = pd.concat([Data.head(100),Data.tail(100)]).sample(frac=1).reset_index(drop=True) #shuffled data ready\n",
    "Data_temp"
   ]
  },
  {
   "cell_type": "code",
   "execution_count": null,
   "metadata": {},
   "outputs": [],
   "source": []
  },
  {
   "cell_type": "code",
   "execution_count": null,
   "metadata": {},
   "outputs": [],
   "source": []
  }
 ],
 "metadata": {
  "kernelspec": {
   "display_name": "Python 3",
   "language": "python",
   "name": "python3"
  },
  "language_info": {
   "codemirror_mode": {
    "name": "ipython",
    "version": 3
   },
   "file_extension": ".py",
   "mimetype": "text/x-python",
   "name": "python",
   "nbconvert_exporter": "python",
   "pygments_lexer": "ipython3",
   "version": "3.7.7"
  }
 },
 "nbformat": 4,
 "nbformat_minor": 4
}
