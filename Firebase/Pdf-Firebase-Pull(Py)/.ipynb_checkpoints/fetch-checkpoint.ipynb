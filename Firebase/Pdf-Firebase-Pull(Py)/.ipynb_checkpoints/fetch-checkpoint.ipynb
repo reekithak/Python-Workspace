{
 "cells": [
  {
   "cell_type": "code",
   "execution_count": 6,
   "metadata": {
    "ExecuteTime": {
     "end_time": "2020-10-20T20:56:45.330763Z",
     "start_time": "2020-10-20T20:56:45.201971Z"
    }
   },
   "outputs": [],
   "source": [
    "#!pip install --upgrade google-cloud-speech\n",
    "from __future__ import absolute_import\n",
    "#D:\\working repos\n",
    "from firebase import Firebase # works\n",
    "\n",
    "#storage_client = storage.Client.from_service_account_json(r\"D:\\working repos\\mass.json\")\n",
    "from pyrebase import pyrebase"
   ]
  },
  {
   "cell_type": "code",
   "execution_count": 7,
   "metadata": {
    "ExecuteTime": {
     "end_time": "2020-10-20T20:56:46.674743Z",
     "start_time": "2020-10-20T20:56:46.662784Z"
    }
   },
   "outputs": [
    {
     "data": {
      "text/plain": [
       "'D:\\\\working repos\\\\Machine_Learing_PDF\\\\Pdf-Firebase-Pull(Py)'"
      ]
     },
     "execution_count": 7,
     "metadata": {},
     "output_type": "execute_result"
    }
   ],
   "source": [
    "import os \n",
    "os.getcwd()"
   ]
  },
  {
   "cell_type": "code",
   "execution_count": 8,
   "metadata": {
    "ExecuteTime": {
     "end_time": "2020-10-20T20:56:48.714668Z",
     "start_time": "2020-10-20T20:56:48.693724Z"
    }
   },
   "outputs": [],
   "source": [
    "config = {\n",
    "  \"apiKey\": \"yourapikey\",\n",
    "  \"authDomain\": \"try-python-pull.firebaseapp.com\",\n",
    "  \"databaseURL\": \"https://try-python-pull.firebaseio.com\",\n",
    "  \"storageBucket\": \"try-python-pull.appspot.com\"\n",
    "}"
   ]
  },
  {
   "cell_type": "code",
   "execution_count": 9,
   "metadata": {
    "ExecuteTime": {
     "end_time": "2020-10-20T20:56:49.106204Z",
     "start_time": "2020-10-20T20:56:49.091245Z"
    }
   },
   "outputs": [],
   "source": [
    "firebase = pyrebase.initialize_app(config)"
   ]
  },
  {
   "cell_type": "code",
   "execution_count": 10,
   "metadata": {
    "ExecuteTime": {
     "end_time": "2020-10-20T20:56:49.771540Z",
     "start_time": "2020-10-20T20:56:49.753587Z"
    }
   },
   "outputs": [],
   "source": [
    "storage = firebase.storage()"
   ]
  },
  {
   "cell_type": "code",
   "execution_count": 11,
   "metadata": {
    "ExecuteTime": {
     "end_time": "2020-10-20T20:56:50.193257Z",
     "start_time": "2020-10-20T20:56:50.181291Z"
    }
   },
   "outputs": [],
   "source": [
    "#storage.child(\"gs://try-python-pull.appspot.com/applsci-10-01245-v2.pdf\")"
   ]
  },
  {
   "cell_type": "code",
   "execution_count": 17,
   "metadata": {
    "ExecuteTime": {
     "end_time": "2020-10-20T21:00:29.563101Z",
     "start_time": "2020-10-20T21:00:26.724982Z"
    }
   },
   "outputs": [],
   "source": [
    "storage.child(\"applsci-10-01245-v2.pdf\").download(filename =\"new_pdf.pdf\",path=\"D:/working repos/Machine_Learing_PDF/Pdf-Firebase-Pull(Py)\")"
   ]
  },
  {
   "cell_type": "code",
   "execution_count": 18,
   "metadata": {
    "ExecuteTime": {
     "end_time": "2020-10-20T21:02:59.669921Z",
     "start_time": "2020-10-20T21:02:59.655960Z"
    }
   },
   "outputs": [],
   "source": [
    "import webbrowser"
   ]
  },
  {
   "cell_type": "code",
   "execution_count": 19,
   "metadata": {
    "ExecuteTime": {
     "end_time": "2020-10-20T21:03:21.806405Z",
     "start_time": "2020-10-20T21:03:21.613034Z"
    }
   },
   "outputs": [
    {
     "data": {
      "text/plain": [
       "True"
      ]
     },
     "execution_count": 19,
     "metadata": {},
     "output_type": "execute_result"
    }
   ],
   "source": [
    "webbrowser.open_new(\"new_pdf.pdf\")"
   ]
  }
 ],
 "metadata": {
  "kernelspec": {
   "display_name": "Python 3",
   "language": "python",
   "name": "python3"
  },
  "language_info": {
   "codemirror_mode": {
    "name": "ipython",
    "version": 3
   },
   "file_extension": ".py",
   "mimetype": "text/x-python",
   "name": "python",
   "nbconvert_exporter": "python",
   "pygments_lexer": "ipython3",
   "version": "3.7.7"
  }
 },
 "nbformat": 4,
 "nbformat_minor": 4
}
