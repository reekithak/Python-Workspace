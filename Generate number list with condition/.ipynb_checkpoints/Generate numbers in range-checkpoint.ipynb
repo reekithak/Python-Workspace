{
 "cells": [
  {
   "cell_type": "code",
   "execution_count": 13,
   "metadata": {
    "ExecuteTime": {
     "end_time": "2021-01-20T07:30:14.699235Z",
     "start_time": "2021-01-20T07:30:14.688235Z"
    }
   },
   "outputs": [],
   "source": [
    "sum_ = [2340170,384380,1386000]\n",
    "count_ = 345\n",
    "min_ = 6000\n",
    "max_ = 10000"
   ]
  },
  {
   "cell_type": "code",
   "execution_count": 14,
   "metadata": {
    "ExecuteTime": {
     "end_time": "2021-01-20T07:30:15.336354Z",
     "start_time": "2021-01-20T07:30:15.318784Z"
    }
   },
   "outputs": [],
   "source": [
    "import random\n",
    "import pandas as pd \n",
    "def generate(low,high,goal_sum,size):\n",
    "    output = []\n",
    "    for i in range(size):\n",
    "        new_int = random.randint(low,high)\n",
    "        new_int = (new_int // 10) * 10\n",
    "        if sum(output) + new_int <= goal_sum:\n",
    "            output.append(new_int)\n",
    "        else:\n",
    "            output.append(0)\n",
    "    random.shuffle(output)\n",
    "    return output\n",
    "amount_df = pd.DataFrame()\n",
    "iter_ = 1\n",
    "for val in sum_:\n",
    "    print(val)\n",
    "    xl = generate(min_,max_,val,count_)\n",
    "    xl = [i for i in xl if i != 0]\n",
    "    print(sum(xl),len(xl))\n",
    "    amount_df['figures_{}'.format(iter_)] = pd.Series(xl)\n",
    "    iter_+=1\n",
    "amount_df.to_csv(\"figures.csv\")"
   ]
  },
  {
   "cell_type": "code",
   "execution_count": 21,
   "metadata": {
    "ExecuteTime": {
     "end_time": "2021-01-20T07:31:55.986826Z",
     "start_time": "2021-01-20T07:31:55.951826Z"
    }
   },
   "outputs": [],
   "source": []
  },
  {
   "cell_type": "code",
   "execution_count": 4,
   "metadata": {
    "ExecuteTime": {
     "end_time": "2021-01-20T07:27:46.559046Z",
     "start_time": "2021-01-20T07:27:46.541046Z"
    }
   },
   "outputs": [],
   "source": []
  },
  {
   "cell_type": "code",
   "execution_count": 5,
   "metadata": {
    "ExecuteTime": {
     "end_time": "2021-01-20T07:27:47.211320Z",
     "start_time": "2021-01-20T07:27:47.189348Z"
    }
   },
   "outputs": [
    {
     "data": {
      "text/plain": [
       "2334980"
      ]
     },
     "execution_count": 5,
     "metadata": {},
     "output_type": "execute_result"
    }
   ],
   "source": []
  },
  {
   "cell_type": "code",
   "execution_count": 6,
   "metadata": {
    "ExecuteTime": {
     "end_time": "2021-01-20T07:27:53.327959Z",
     "start_time": "2021-01-20T07:27:52.375095Z"
    }
   },
   "outputs": [],
   "source": []
  },
  {
   "cell_type": "code",
   "execution_count": 7,
   "metadata": {
    "ExecuteTime": {
     "end_time": "2021-01-20T07:27:53.940040Z",
     "start_time": "2021-01-20T07:27:53.934010Z"
    }
   },
   "outputs": [],
   "source": []
  },
  {
   "cell_type": "code",
   "execution_count": 8,
   "metadata": {
    "ExecuteTime": {
     "end_time": "2021-01-20T07:27:54.503556Z",
     "start_time": "2021-01-20T07:27:54.485521Z"
    }
   },
   "outputs": [],
   "source": []
  },
  {
   "cell_type": "code",
   "execution_count": null,
   "metadata": {},
   "outputs": [],
   "source": []
  }
 ],
 "metadata": {
  "kernelspec": {
   "display_name": "Python 3",
   "language": "python",
   "name": "python3"
  },
  "language_info": {
   "codemirror_mode": {
    "name": "ipython",
    "version": 3
   },
   "file_extension": ".py",
   "mimetype": "text/x-python",
   "name": "python",
   "nbconvert_exporter": "python",
   "pygments_lexer": "ipython3",
   "version": "3.7.8"
  }
 },
 "nbformat": 4,
 "nbformat_minor": 4
}
